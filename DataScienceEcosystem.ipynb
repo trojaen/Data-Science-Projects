{
 "cells": [
  {
   "cell_type": "markdown",
   "id": "610b9e46-ff70-4071-bb4f-b4bb180d2e3d",
   "metadata": {},
   "source": [
    "# Data Science Tools and Ecosystem"
   ]
  },
  {
   "cell_type": "markdown",
   "id": "8436bfb5-57f1-4310-9a1a-060ac320f1d7",
   "metadata": {},
   "source": [
    "In this notebook, Data Science Tools and Ecosystems are summarized."
   ]
  },
  {
   "cell_type": "markdown",
   "id": "78cbf74d-7ae5-4fa0-8775-4928a3a53823",
   "metadata": {},
   "source": [
    "**Objectives:**\n",
    "* List Popular Languages for Data Science\n",
    "* List commonly used Data Science libraries.\n",
    "* Show Some examples of simple coding\n",
    "* List popular Data Science IDEs"
   ]
  },
  {
   "cell_type": "markdown",
   "id": "097259c5-dfe5-4ee3-a4d6-c685552a641c",
   "metadata": {},
   "source": [
    "Some of the popular languages that Data Scientists use are\n",
    "\n",
    "1. Python\n",
    "2. R\n",
    "3. Java\n",
    "4. SQL\n",
    "5. C/C++\n",
    "6. Scala\n",
    "\n",
    "And much more!\n"
   ]
  },
  {
   "cell_type": "markdown",
   "id": "0ef98bc9-7df5-4743-985f-de780fd9debb",
   "metadata": {},
   "source": [
    "Some of the commonly used libraries used by Data Scientists include:\n",
    "1. pandas (for python)\n",
    "2. matplotlib (for python)\n",
    "3. ggplot (for R)"
   ]
  },
  {
   "cell_type": "markdown",
   "id": "998d7e4a-7cc2-4819-a31a-ffdd7d12ee26",
   "metadata": {},
   "source": [
    "|Data Science Tools|\n",
    "|------------------|\n",
    "|Jupyterlab (Python)|\n",
    "|Jupyter Notebooks (Python)|\n",
    "|RStudio (R)|"
   ]
  },
  {
   "cell_type": "markdown",
   "id": "43cbad1f-d10c-4db2-8b61-914453e498ab",
   "metadata": {},
   "source": [
    "Below are a few examples of evaluating arithmetic expressions in Python:\n",
    "\n",
    "3+3\n",
    "\n",
    "7*9\n",
    "\n",
    "(8+2)/7"
   ]
  },
  {
   "cell_type": "code",
   "execution_count": 1,
   "id": "1b14945a-3f0c-4fe2-8a7d-475b08a4c288",
   "metadata": {},
   "outputs": [
    {
     "data": {
      "text/plain": [
       "17"
      ]
     },
     "execution_count": 1,
     "metadata": {},
     "output_type": "execute_result"
    }
   ],
   "source": [
    "#This is a simple arithmetix expression to multiply and then add integers.\n",
    "(3*4)+5"
   ]
  },
  {
   "cell_type": "code",
   "execution_count": 13,
   "id": "c41fdcd3-14b9-4ec4-8b9c-46e1029e9ea7",
   "metadata": {},
   "outputs": [
    {
     "name": "stdout",
     "output_type": "stream",
     "text": [
      "200 minutes = 3.3333333333333335 hours.\n"
     ]
    }
   ],
   "source": [
    "#This will convert 200 minutes into hours by dividing by 60.\n",
    "\n",
    "print(\"200 minutes =\", 200/60, \"hours.\")\n"
   ]
  },
  {
   "cell_type": "markdown",
   "id": "e3c49ae2-f5c5-41d6-94d6-7b663f4ed4d1",
   "metadata": {},
   "source": [
    "## Author:\n",
    "\n",
    "Terry A. Stokes II"
   ]
  }
 ],
 "metadata": {
  "kernelspec": {
   "display_name": "Python 3 (ipykernel)",
   "language": "python",
   "name": "python3"
  },
  "language_info": {
   "codemirror_mode": {
    "name": "ipython",
    "version": 3
   },
   "file_extension": ".py",
   "mimetype": "text/x-python",
   "name": "python",
   "nbconvert_exporter": "python",
   "pygments_lexer": "ipython3",
   "version": "3.12.4"
  }
 },
 "nbformat": 4,
 "nbformat_minor": 5
}
